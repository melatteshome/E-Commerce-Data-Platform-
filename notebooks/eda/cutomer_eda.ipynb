{
 "cells": [
  {
   "cell_type": "markdown",
   "metadata": {},
   "source": [
    "# Exploratory Data Analysis of Customer data"
   ]
  },
  {
   "cell_type": "markdown",
   "metadata": {},
   "source": [
    "## Overview for and EDA Notebook of Customer Data\n",
    "This notebook will perform Exploratory Data Analysis (EDA) on a dataset containing detailed customer information from an e-commerce platform. The dataset includes the following features:\n",
    "\n",
    "* Customer ID: Unique identifier for each customer.\n",
    "* Personal Information: First name, last name, username, email, gender, and birthdate.\n",
    "* Device Information: Type of device used (iOS/Android), device ID, and device version.\n",
    "* Geographical Data: Home location coordinates (latitude and longitude), location name, and home country.\n",
    "* Customer Journey: First join date of the customer on the platform.\n",
    "\n",
    "### Objectives:\n",
    "* Demographics Analysis: Analyze customer demographics including gender, age distribution, and geographical location.\n",
    "* Device Usage: Identify device preferences across different customer segments.\n",
    "* Behavioral Patterns: Explore customer onboarding dates to understand growth trends over time.\n",
    "* Location Insights: Visualize customer distribution across regions using geospatial data.\n",
    "* This EDA will provide insights into customer behaviors, preferences, and potential trends, which can help in better understanding the platform's user base and guiding business strategies."
   ]
  },
  {
   "cell_type": "markdown",
   "metadata": {},
   "source": []
  }
 ],
 "metadata": {
  "kernelspec": {
   "display_name": "myenv",
   "language": "python",
   "name": "python3"
  },
  "language_info": {
   "codemirror_mode": {
    "name": "ipython",
    "version": 3
   },
   "file_extension": ".py",
   "mimetype": "text/x-python",
   "name": "python",
   "nbconvert_exporter": "python",
   "pygments_lexer": "ipython3",
   "version": "3.10.12"
  }
 },
 "nbformat": 4,
 "nbformat_minor": 2
}
