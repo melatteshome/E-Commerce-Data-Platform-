{
 "cells": [
  {
   "cell_type": "markdown",
   "metadata": {},
   "source": [
    "# Exploratory Data Analysis of Customer data\n",
    "\n",
    "\n",
    "## Overview for the EDA Notebook on E-commerce Customer Data\n",
    "\n",
    "This notebook will perform Exploratory Data Analysis (EDA) on a dataset containing detailed customer information from an e-commerce platform. The dataset includes the following features:\n",
    "\n",
    "- **Customer ID**: Unique identifier for each customer.\n",
    "- **Personal Information**: First name, last name, username, email, gender, and birthdate.\n",
    "- **Device Information**: Type of device used (iOS/Android), device ID, and device version.\n",
    "- **Geographical Data**: Home location coordinates (latitude and longitude), location name, and home country.\n",
    "- **Customer Journey**: First join date of the customer on the platform.\n",
    "\n",
    "## Objectives:\n",
    "\n",
    "- **Demographics Analysis**: Analyze customer demographics including gender, age distribution, and geographical location.\n",
    "- **Device Usage**: Identify device preferences across different customer segments.\n",
    "- **Behavioral Patterns**: Explore customer onboarding dates to understand growth trends over time.\n",
    "- **Location Insights**: Visualize customer distribution across regions using geospatial data.\n",
    "\n",
    "This EDA will provide insights into customer behaviors, preferences, and potential trends, which can help in better understanding the platform's user base and guiding\n"
   ]
  },
  {
   "cell_type": "markdown",
   "metadata": {},
   "source": []
  },
  {
   "cell_type": "markdown",
   "metadata": {},
   "source": [
    "### Data understanding"
   ]
  },
  {
   "cell_type": "markdown",
   "metadata": {},
   "source": []
  },
  {
   "cell_type": "code",
   "execution_count": 59,
   "metadata": {},
   "outputs": [],
   "source": [
    "# all the packages needed for the EDA\n",
    "import pandas as pd \n",
    "import sys\n",
    "import os as os"
   ]
  },
  {
   "cell_type": "code",
   "execution_count": 60,
   "metadata": {},
   "outputs": [
    {
     "data": {
      "text/html": [
       "<div>\n",
       "<style scoped>\n",
       "    .dataframe tbody tr th:only-of-type {\n",
       "        vertical-align: middle;\n",
       "    }\n",
       "\n",
       "    .dataframe tbody tr th {\n",
       "        vertical-align: top;\n",
       "    }\n",
       "\n",
       "    .dataframe thead th {\n",
       "        text-align: right;\n",
       "    }\n",
       "</style>\n",
       "<table border=\"1\" class=\"dataframe\">\n",
       "  <thead>\n",
       "    <tr style=\"text-align: right;\">\n",
       "      <th></th>\n",
       "      <th>customer_id</th>\n",
       "      <th>first_name</th>\n",
       "      <th>last_name</th>\n",
       "      <th>username</th>\n",
       "      <th>email</th>\n",
       "      <th>gender</th>\n",
       "      <th>birthdate</th>\n",
       "      <th>device_type</th>\n",
       "      <th>device_id</th>\n",
       "      <th>device_version</th>\n",
       "      <th>home_location_lat</th>\n",
       "      <th>home_location_long</th>\n",
       "      <th>home_location</th>\n",
       "      <th>home_country</th>\n",
       "      <th>first_join_date</th>\n",
       "    </tr>\n",
       "  </thead>\n",
       "  <tbody>\n",
       "    <tr>\n",
       "      <th>0</th>\n",
       "      <td>2870</td>\n",
       "      <td>Lala</td>\n",
       "      <td>Maryati</td>\n",
       "      <td>671a0865-ac4e-4dc4-9c4f-c286a1176f7e</td>\n",
       "      <td>671a0865_ac4e_4dc4_9c4f_c286a1176f7e@startupca...</td>\n",
       "      <td>F</td>\n",
       "      <td>1996-06-14</td>\n",
       "      <td>iOS</td>\n",
       "      <td>c9c0de76-0a6c-4ac2-843f-65264ab9fe63</td>\n",
       "      <td>iPhone; CPU iPhone OS 14_2_1 like Mac OS X</td>\n",
       "      <td>-1.043345</td>\n",
       "      <td>101.360523</td>\n",
       "      <td>Sumatera Barat</td>\n",
       "      <td>Indonesia</td>\n",
       "      <td>2019-07-21</td>\n",
       "    </tr>\n",
       "    <tr>\n",
       "      <th>1</th>\n",
       "      <td>8193</td>\n",
       "      <td>Maimunah</td>\n",
       "      <td>Laksmiwati</td>\n",
       "      <td>83be2ba7-8133-48a4-bbcb-b46a2762473f</td>\n",
       "      <td>83be2ba7_8133_48a4_bbcb_b46a2762473f@zakyfound...</td>\n",
       "      <td>F</td>\n",
       "      <td>1993-08-16</td>\n",
       "      <td>Android</td>\n",
       "      <td>fb331c3d-f42e-40fe-afe2-b4b73a8a6e25</td>\n",
       "      <td>Android 2.2.1</td>\n",
       "      <td>-6.212489</td>\n",
       "      <td>106.818850</td>\n",
       "      <td>Jakarta Raya</td>\n",
       "      <td>Indonesia</td>\n",
       "      <td>2017-07-16</td>\n",
       "    </tr>\n",
       "    <tr>\n",
       "      <th>2</th>\n",
       "      <td>7279</td>\n",
       "      <td>Bakiman</td>\n",
       "      <td>Simanjuntak</td>\n",
       "      <td>3250e5a3-1d23-4675-a647-3281879d42be</td>\n",
       "      <td>3250e5a3_1d23_4675_a647_3281879d42be@startupca...</td>\n",
       "      <td>M</td>\n",
       "      <td>1989-01-23</td>\n",
       "      <td>iOS</td>\n",
       "      <td>d13dde0a-6ae1-43c3-83a7-11bbb922730b</td>\n",
       "      <td>iPad; CPU iPad OS 4_2_1 like Mac OS X</td>\n",
       "      <td>-8.631607</td>\n",
       "      <td>116.428436</td>\n",
       "      <td>Nusa Tenggara Barat</td>\n",
       "      <td>Indonesia</td>\n",
       "      <td>2020-08-23</td>\n",
       "    </tr>\n",
       "    <tr>\n",
       "      <th>3</th>\n",
       "      <td>88813</td>\n",
       "      <td>Cahyadi</td>\n",
       "      <td>Maheswara</td>\n",
       "      <td>df797edf-b465-4a80-973b-9fbb612260c2</td>\n",
       "      <td>df797edf_b465_4a80_973b_9fbb612260c2@zakyfound...</td>\n",
       "      <td>M</td>\n",
       "      <td>1991-01-05</td>\n",
       "      <td>iOS</td>\n",
       "      <td>f4c18515-c5be-419f-8142-f037be47c9cd</td>\n",
       "      <td>iPad; CPU iPad OS 14_2 like Mac OS X</td>\n",
       "      <td>1.299332</td>\n",
       "      <td>115.774934</td>\n",
       "      <td>Kalimantan Timur</td>\n",
       "      <td>Indonesia</td>\n",
       "      <td>2021-10-03</td>\n",
       "    </tr>\n",
       "    <tr>\n",
       "      <th>4</th>\n",
       "      <td>82542</td>\n",
       "      <td>Irnanto</td>\n",
       "      <td>Wijaya</td>\n",
       "      <td>36ab08e1-03de-42a8-9e3b-59528c798824</td>\n",
       "      <td>36ab08e1_03de_42a8_9e3b_59528c798824@startupca...</td>\n",
       "      <td>M</td>\n",
       "      <td>2000-07-15</td>\n",
       "      <td>iOS</td>\n",
       "      <td>e46e4c36-4630-4736-8fcf-663db29ca3b0</td>\n",
       "      <td>iPhone; CPU iPhone OS 10_3_3 like Mac OS X</td>\n",
       "      <td>-2.980807</td>\n",
       "      <td>114.924675</td>\n",
       "      <td>Kalimantan Selatan</td>\n",
       "      <td>Indonesia</td>\n",
       "      <td>2021-04-11</td>\n",
       "    </tr>\n",
       "  </tbody>\n",
       "</table>\n",
       "</div>"
      ],
      "text/plain": [
       "   customer_id first_name    last_name                              username  \\\n",
       "0         2870       Lala      Maryati  671a0865-ac4e-4dc4-9c4f-c286a1176f7e   \n",
       "1         8193   Maimunah   Laksmiwati  83be2ba7-8133-48a4-bbcb-b46a2762473f   \n",
       "2         7279    Bakiman  Simanjuntak  3250e5a3-1d23-4675-a647-3281879d42be   \n",
       "3        88813    Cahyadi    Maheswara  df797edf-b465-4a80-973b-9fbb612260c2   \n",
       "4        82542    Irnanto       Wijaya  36ab08e1-03de-42a8-9e3b-59528c798824   \n",
       "\n",
       "                                               email gender   birthdate  \\\n",
       "0  671a0865_ac4e_4dc4_9c4f_c286a1176f7e@startupca...      F  1996-06-14   \n",
       "1  83be2ba7_8133_48a4_bbcb_b46a2762473f@zakyfound...      F  1993-08-16   \n",
       "2  3250e5a3_1d23_4675_a647_3281879d42be@startupca...      M  1989-01-23   \n",
       "3  df797edf_b465_4a80_973b_9fbb612260c2@zakyfound...      M  1991-01-05   \n",
       "4  36ab08e1_03de_42a8_9e3b_59528c798824@startupca...      M  2000-07-15   \n",
       "\n",
       "  device_type                             device_id  \\\n",
       "0         iOS  c9c0de76-0a6c-4ac2-843f-65264ab9fe63   \n",
       "1     Android  fb331c3d-f42e-40fe-afe2-b4b73a8a6e25   \n",
       "2         iOS  d13dde0a-6ae1-43c3-83a7-11bbb922730b   \n",
       "3         iOS  f4c18515-c5be-419f-8142-f037be47c9cd   \n",
       "4         iOS  e46e4c36-4630-4736-8fcf-663db29ca3b0   \n",
       "\n",
       "                               device_version  home_location_lat  \\\n",
       "0  iPhone; CPU iPhone OS 14_2_1 like Mac OS X          -1.043345   \n",
       "1                               Android 2.2.1          -6.212489   \n",
       "2       iPad; CPU iPad OS 4_2_1 like Mac OS X          -8.631607   \n",
       "3        iPad; CPU iPad OS 14_2 like Mac OS X           1.299332   \n",
       "4  iPhone; CPU iPhone OS 10_3_3 like Mac OS X          -2.980807   \n",
       "\n",
       "   home_location_long        home_location home_country first_join_date  \n",
       "0          101.360523       Sumatera Barat    Indonesia      2019-07-21  \n",
       "1          106.818850         Jakarta Raya    Indonesia      2017-07-16  \n",
       "2          116.428436  Nusa Tenggara Barat    Indonesia      2020-08-23  \n",
       "3          115.774934     Kalimantan Timur    Indonesia      2021-10-03  \n",
       "4          114.924675   Kalimantan Selatan    Indonesia      2021-04-11  "
      ]
     },
     "execution_count": 60,
     "metadata": {},
     "output_type": "execute_result"
    }
   ],
   "source": [
    "customer_df = pd.read_csv('customer.csv')\n",
    "customer_df.head()\n"
   ]
  },
  {
   "cell_type": "code",
   "execution_count": 61,
   "metadata": {},
   "outputs": [
    {
     "data": {
      "text/plain": [
       "(100000, 15)"
      ]
     },
     "execution_count": 61,
     "metadata": {},
     "output_type": "execute_result"
    }
   ],
   "source": [
    "\n",
    "customer_df.shape"
   ]
  },
  {
   "cell_type": "code",
   "execution_count": 62,
   "metadata": {},
   "outputs": [
    {
     "data": {
      "text/plain": [
       "customer_id             int64\n",
       "first_name             object\n",
       "last_name              object\n",
       "username               object\n",
       "email                  object\n",
       "gender                 object\n",
       "birthdate              object\n",
       "device_type            object\n",
       "device_id              object\n",
       "device_version         object\n",
       "home_location_lat     float64\n",
       "home_location_long    float64\n",
       "home_location          object\n",
       "home_country           object\n",
       "first_join_date        object\n",
       "dtype: object"
      ]
     },
     "execution_count": 62,
     "metadata": {},
     "output_type": "execute_result"
    }
   ],
   "source": [
    "customer_df.dtypes"
   ]
  },
  {
   "cell_type": "code",
   "execution_count": 63,
   "metadata": {},
   "outputs": [
    {
     "name": "stdout",
     "output_type": "stream",
     "text": [
      "<class 'pandas.core.frame.DataFrame'>\n",
      "RangeIndex: 100000 entries, 0 to 99999\n",
      "Data columns (total 15 columns):\n",
      " #   Column              Non-Null Count   Dtype  \n",
      "---  ------              --------------   -----  \n",
      " 0   customer_id         100000 non-null  int64  \n",
      " 1   first_name          100000 non-null  object \n",
      " 2   last_name           100000 non-null  object \n",
      " 3   username            100000 non-null  object \n",
      " 4   email               100000 non-null  object \n",
      " 5   gender              100000 non-null  object \n",
      " 6   birthdate           100000 non-null  object \n",
      " 7   device_type         100000 non-null  object \n",
      " 8   device_id           100000 non-null  object \n",
      " 9   device_version      100000 non-null  object \n",
      " 10  home_location_lat   100000 non-null  float64\n",
      " 11  home_location_long  100000 non-null  float64\n",
      " 12  home_location       100000 non-null  object \n",
      " 13  home_country        100000 non-null  object \n",
      " 14  first_join_date     100000 non-null  object \n",
      "dtypes: float64(2), int64(1), object(12)\n",
      "memory usage: 11.4+ MB\n"
     ]
    }
   ],
   "source": [
    "customer_df.info()"
   ]
  },
  {
   "cell_type": "code",
   "execution_count": 64,
   "metadata": {},
   "outputs": [
    {
     "data": {
      "text/html": [
       "<div>\n",
       "<style scoped>\n",
       "    .dataframe tbody tr th:only-of-type {\n",
       "        vertical-align: middle;\n",
       "    }\n",
       "\n",
       "    .dataframe tbody tr th {\n",
       "        vertical-align: top;\n",
       "    }\n",
       "\n",
       "    .dataframe thead th {\n",
       "        text-align: right;\n",
       "    }\n",
       "</style>\n",
       "<table border=\"1\" class=\"dataframe\">\n",
       "  <thead>\n",
       "    <tr style=\"text-align: right;\">\n",
       "      <th></th>\n",
       "      <th>customer_id</th>\n",
       "      <th>home_location_lat</th>\n",
       "      <th>home_location_long</th>\n",
       "    </tr>\n",
       "  </thead>\n",
       "  <tbody>\n",
       "    <tr>\n",
       "      <th>count</th>\n",
       "      <td>100000.000000</td>\n",
       "      <td>100000.000000</td>\n",
       "      <td>100000.000000</td>\n",
       "    </tr>\n",
       "    <tr>\n",
       "      <th>mean</th>\n",
       "      <td>50000.500000</td>\n",
       "      <td>-5.106390</td>\n",
       "      <td>110.936081</td>\n",
       "    </tr>\n",
       "    <tr>\n",
       "      <th>std</th>\n",
       "      <td>28867.657797</td>\n",
       "      <td>3.088183</td>\n",
       "      <td>6.343363</td>\n",
       "    </tr>\n",
       "    <tr>\n",
       "      <th>min</th>\n",
       "      <td>1.000000</td>\n",
       "      <td>-10.845002</td>\n",
       "      <td>95.275319</td>\n",
       "    </tr>\n",
       "    <tr>\n",
       "      <th>25%</th>\n",
       "      <td>25000.750000</td>\n",
       "      <td>-7.372650</td>\n",
       "      <td>106.860628</td>\n",
       "    </tr>\n",
       "    <tr>\n",
       "      <th>50%</th>\n",
       "      <td>50000.500000</td>\n",
       "      <td>-6.240087</td>\n",
       "      <td>110.162010</td>\n",
       "    </tr>\n",
       "    <tr>\n",
       "      <th>75%</th>\n",
       "      <td>75000.250000</td>\n",
       "      <td>-3.092254</td>\n",
       "      <td>113.171187</td>\n",
       "    </tr>\n",
       "    <tr>\n",
       "      <th>max</th>\n",
       "      <td>100000.000000</td>\n",
       "      <td>5.818355</td>\n",
       "      <td>140.993119</td>\n",
       "    </tr>\n",
       "  </tbody>\n",
       "</table>\n",
       "</div>"
      ],
      "text/plain": [
       "         customer_id  home_location_lat  home_location_long\n",
       "count  100000.000000      100000.000000       100000.000000\n",
       "mean    50000.500000          -5.106390          110.936081\n",
       "std     28867.657797           3.088183            6.343363\n",
       "min         1.000000         -10.845002           95.275319\n",
       "25%     25000.750000          -7.372650          106.860628\n",
       "50%     50000.500000          -6.240087          110.162010\n",
       "75%     75000.250000          -3.092254          113.171187\n",
       "max    100000.000000           5.818355          140.993119"
      ]
     },
     "execution_count": 64,
     "metadata": {},
     "output_type": "execute_result"
    }
   ],
   "source": [
    "customer_df.describe()"
   ]
  },
  {
   "cell_type": "markdown",
   "metadata": {},
   "source": [
    "### Data cleaning "
   ]
  },
  {
   "cell_type": "code",
   "execution_count": 68,
   "metadata": {},
   "outputs": [],
   "source": [
    "# customer_df.to_csv('customers.csv', index= False)\n",
    "# processed_customer_df = pd.read_csv('customers.csv', index_col= False)"
   ]
  },
  {
   "cell_type": "code",
   "execution_count": 67,
   "metadata": {},
   "outputs": [],
   "source": [
    "# processed_customer_df.head()"
   ]
  },
  {
   "cell_type": "code",
   "execution_count": null,
   "metadata": {},
   "outputs": [],
   "source": []
  },
  {
   "cell_type": "code",
   "execution_count": 87,
   "metadata": {},
   "outputs": [
    {
     "ename": "KeyError",
     "evalue": "('home_location', 'first_name', 'last_name', 'device_type')",
     "output_type": "error",
     "traceback": [
      "\u001b[0;31m---------------------------------------------------------------------------\u001b[0m",
      "\u001b[0;31mKeyError\u001b[0m                                  Traceback (most recent call last)",
      "File \u001b[0;32m~/Projects/E-Commerece/myenv/lib/python3.10/site-packages/pandas/core/indexes/base.py:3805\u001b[0m, in \u001b[0;36mIndex.get_loc\u001b[0;34m(self, key)\u001b[0m\n\u001b[1;32m   3804\u001b[0m \u001b[38;5;28;01mtry\u001b[39;00m:\n\u001b[0;32m-> 3805\u001b[0m     \u001b[38;5;28;01mreturn\u001b[39;00m \u001b[38;5;28;43mself\u001b[39;49m\u001b[38;5;241;43m.\u001b[39;49m\u001b[43m_engine\u001b[49m\u001b[38;5;241;43m.\u001b[39;49m\u001b[43mget_loc\u001b[49m\u001b[43m(\u001b[49m\u001b[43mcasted_key\u001b[49m\u001b[43m)\u001b[49m\n\u001b[1;32m   3806\u001b[0m \u001b[38;5;28;01mexcept\u001b[39;00m \u001b[38;5;167;01mKeyError\u001b[39;00m \u001b[38;5;28;01mas\u001b[39;00m err:\n",
      "File \u001b[0;32mindex.pyx:167\u001b[0m, in \u001b[0;36mpandas._libs.index.IndexEngine.get_loc\u001b[0;34m()\u001b[0m\n",
      "File \u001b[0;32mindex.pyx:196\u001b[0m, in \u001b[0;36mpandas._libs.index.IndexEngine.get_loc\u001b[0;34m()\u001b[0m\n",
      "File \u001b[0;32mpandas/_libs/hashtable_class_helper.pxi:7081\u001b[0m, in \u001b[0;36mpandas._libs.hashtable.PyObjectHashTable.get_item\u001b[0;34m()\u001b[0m\n",
      "File \u001b[0;32mpandas/_libs/hashtable_class_helper.pxi:7089\u001b[0m, in \u001b[0;36mpandas._libs.hashtable.PyObjectHashTable.get_item\u001b[0;34m()\u001b[0m\n",
      "\u001b[0;31mKeyError\u001b[0m: ('home_location', 'first_name', 'last_name', 'device_type')",
      "\nThe above exception was the direct cause of the following exception:\n",
      "\u001b[0;31mKeyError\u001b[0m                                  Traceback (most recent call last)",
      "Cell \u001b[0;32mIn[87], line 2\u001b[0m\n\u001b[1;32m      1\u001b[0m \u001b[38;5;66;03m# customer_df.astype({'home_location_lat': float, 'home_location': str ,'first_name': str, 'last_name': str, 'device_type': str})\u001b[39;00m\n\u001b[0;32m----> 2\u001b[0m customer_df[\u001b[38;5;124m'\u001b[39m\u001b[38;5;124mhome_location\u001b[39m\u001b[38;5;124m'\u001b[39m, \u001b[38;5;124m'\u001b[39m\u001b[38;5;124mfirst_name\u001b[39m\u001b[38;5;124m'\u001b[39m , \u001b[38;5;124m'\u001b[39m\u001b[38;5;124mlast_name\u001b[39m\u001b[38;5;124m'\u001b[39m, \u001b[38;5;124m'\u001b[39m\u001b[38;5;124mdevice_type\u001b[39m\u001b[38;5;124m'\u001b[39m] \u001b[38;5;241m=\u001b[39m \u001b[43mcustomer_df\u001b[49m\u001b[43m[\u001b[49m\u001b[38;5;124;43m'\u001b[39;49m\u001b[38;5;124;43mhome_location\u001b[39;49m\u001b[38;5;124;43m'\u001b[39;49m\u001b[43m,\u001b[49m\u001b[43m \u001b[49m\u001b[38;5;124;43m'\u001b[39;49m\u001b[38;5;124;43mfirst_name\u001b[39;49m\u001b[38;5;124;43m'\u001b[39;49m\u001b[43m \u001b[49m\u001b[43m,\u001b[49m\u001b[43m \u001b[49m\u001b[38;5;124;43m'\u001b[39;49m\u001b[38;5;124;43mlast_name\u001b[39;49m\u001b[38;5;124;43m'\u001b[39;49m\u001b[43m,\u001b[49m\u001b[43m \u001b[49m\u001b[38;5;124;43m'\u001b[39;49m\u001b[38;5;124;43mdevice_type\u001b[39;49m\u001b[38;5;124;43m'\u001b[39;49m\u001b[43m]\u001b[49m\u001b[38;5;241m.\u001b[39mastype(\u001b[38;5;28mstr\u001b[39m)\n\u001b[1;32m      4\u001b[0m \u001b[38;5;66;03m# customer_df.astype({'home_location': str})\u001b[39;00m\n",
      "File \u001b[0;32m~/Projects/E-Commerece/myenv/lib/python3.10/site-packages/pandas/core/frame.py:4102\u001b[0m, in \u001b[0;36mDataFrame.__getitem__\u001b[0;34m(self, key)\u001b[0m\n\u001b[1;32m   4100\u001b[0m \u001b[38;5;28;01mif\u001b[39;00m \u001b[38;5;28mself\u001b[39m\u001b[38;5;241m.\u001b[39mcolumns\u001b[38;5;241m.\u001b[39mnlevels \u001b[38;5;241m>\u001b[39m \u001b[38;5;241m1\u001b[39m:\n\u001b[1;32m   4101\u001b[0m     \u001b[38;5;28;01mreturn\u001b[39;00m \u001b[38;5;28mself\u001b[39m\u001b[38;5;241m.\u001b[39m_getitem_multilevel(key)\n\u001b[0;32m-> 4102\u001b[0m indexer \u001b[38;5;241m=\u001b[39m \u001b[38;5;28;43mself\u001b[39;49m\u001b[38;5;241;43m.\u001b[39;49m\u001b[43mcolumns\u001b[49m\u001b[38;5;241;43m.\u001b[39;49m\u001b[43mget_loc\u001b[49m\u001b[43m(\u001b[49m\u001b[43mkey\u001b[49m\u001b[43m)\u001b[49m\n\u001b[1;32m   4103\u001b[0m \u001b[38;5;28;01mif\u001b[39;00m is_integer(indexer):\n\u001b[1;32m   4104\u001b[0m     indexer \u001b[38;5;241m=\u001b[39m [indexer]\n",
      "File \u001b[0;32m~/Projects/E-Commerece/myenv/lib/python3.10/site-packages/pandas/core/indexes/base.py:3812\u001b[0m, in \u001b[0;36mIndex.get_loc\u001b[0;34m(self, key)\u001b[0m\n\u001b[1;32m   3807\u001b[0m     \u001b[38;5;28;01mif\u001b[39;00m \u001b[38;5;28misinstance\u001b[39m(casted_key, \u001b[38;5;28mslice\u001b[39m) \u001b[38;5;129;01mor\u001b[39;00m (\n\u001b[1;32m   3808\u001b[0m         \u001b[38;5;28misinstance\u001b[39m(casted_key, abc\u001b[38;5;241m.\u001b[39mIterable)\n\u001b[1;32m   3809\u001b[0m         \u001b[38;5;129;01mand\u001b[39;00m \u001b[38;5;28many\u001b[39m(\u001b[38;5;28misinstance\u001b[39m(x, \u001b[38;5;28mslice\u001b[39m) \u001b[38;5;28;01mfor\u001b[39;00m x \u001b[38;5;129;01min\u001b[39;00m casted_key)\n\u001b[1;32m   3810\u001b[0m     ):\n\u001b[1;32m   3811\u001b[0m         \u001b[38;5;28;01mraise\u001b[39;00m InvalidIndexError(key)\n\u001b[0;32m-> 3812\u001b[0m     \u001b[38;5;28;01mraise\u001b[39;00m \u001b[38;5;167;01mKeyError\u001b[39;00m(key) \u001b[38;5;28;01mfrom\u001b[39;00m \u001b[38;5;21;01merr\u001b[39;00m\n\u001b[1;32m   3813\u001b[0m \u001b[38;5;28;01mexcept\u001b[39;00m \u001b[38;5;167;01mTypeError\u001b[39;00m:\n\u001b[1;32m   3814\u001b[0m     \u001b[38;5;66;03m# If we have a listlike key, _check_indexing_error will raise\u001b[39;00m\n\u001b[1;32m   3815\u001b[0m     \u001b[38;5;66;03m#  InvalidIndexError. Otherwise we fall through and re-raise\u001b[39;00m\n\u001b[1;32m   3816\u001b[0m     \u001b[38;5;66;03m#  the TypeError.\u001b[39;00m\n\u001b[1;32m   3817\u001b[0m     \u001b[38;5;28mself\u001b[39m\u001b[38;5;241m.\u001b[39m_check_indexing_error(key)\n",
      "\u001b[0;31mKeyError\u001b[0m: ('home_location', 'first_name', 'last_name', 'device_type')"
     ]
    }
   ],
   "source": [
    "\n",
    "\n",
    "# customer_df.astype({'home_location_lat': float, 'home_location': str ,'first_name': str, 'last_name': str, 'device_type': str})\n",
    "customer_df['home_location', 'first_name' , 'last_name', 'device_type'] = customer_df['home_location', 'first_name' , 'last_name', 'device_type'].astype(str)\n",
    "\n",
    "# customer_df.astype({'home_location': str})"
   ]
  },
  {
   "cell_type": "code",
   "execution_count": 86,
   "metadata": {},
   "outputs": [
    {
     "name": "stdout",
     "output_type": "stream",
     "text": [
      "<class 'pandas.core.frame.DataFrame'>\n",
      "RangeIndex: 100000 entries, 0 to 99999\n",
      "Data columns (total 15 columns):\n",
      " #   Column              Non-Null Count   Dtype  \n",
      "---  ------              --------------   -----  \n",
      " 0   customer_id         100000 non-null  int64  \n",
      " 1   first_name          100000 non-null  object \n",
      " 2   last_name           100000 non-null  object \n",
      " 3   username            100000 non-null  object \n",
      " 4   email               100000 non-null  object \n",
      " 5   gender              100000 non-null  object \n",
      " 6   birthdate           100000 non-null  object \n",
      " 7   device_type         100000 non-null  object \n",
      " 8   device_id           100000 non-null  object \n",
      " 9   device_version      100000 non-null  object \n",
      " 10  home_location_lat   100000 non-null  float64\n",
      " 11  home_location_long  100000 non-null  float64\n",
      " 12  home_location       100000 non-null  object \n",
      " 13  home_country        100000 non-null  object \n",
      " 14  first_join_date     100000 non-null  object \n",
      "dtypes: float64(2), int64(1), object(12)\n",
      "memory usage: 11.4+ MB\n"
     ]
    }
   ],
   "source": [
    "customer_df.info()\n",
    "# customer_df.head()"
   ]
  },
  {
   "cell_type": "code",
   "execution_count": null,
   "metadata": {},
   "outputs": [],
   "source": []
  }
 ],
 "metadata": {
  "kernelspec": {
   "display_name": "myenv",
   "language": "python",
   "name": "python3"
  },
  "language_info": {
   "codemirror_mode": {
    "name": "ipython",
    "version": 3
   },
   "file_extension": ".py",
   "mimetype": "text/x-python",
   "name": "python",
   "nbconvert_exporter": "python",
   "pygments_lexer": "ipython3",
   "version": "3.10.12"
  }
 },
 "nbformat": 4,
 "nbformat_minor": 2
}
